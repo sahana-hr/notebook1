{
 "cells": [
  {
   "cell_type": "markdown",
   "id": "e3e74a4a-a60f-44ba-97fa-18569f556325",
   "metadata": {
    "tags": []
   },
   "source": [
    "# Data Science Tools and Ecosystem"
   ]
  },
  {
   "cell_type": "markdown",
   "id": "51f41610-ae24-4d97-83d8-c6c44d069e12",
   "metadata": {},
   "source": [
    "In this notebook, Data Science Tools and Ecosystem are summarized."
   ]
  },
  {
   "cell_type": "markdown",
   "id": "e6e7e6e8-a859-4091-b411-c4b4350d2dae",
   "metadata": {},
   "source": [
    "**Objectives:**\n",
    "- list of popular languages of data science\n",
    "- list of commonly used libraries for data science\n",
    "- list of data science tools\n",
    "- examples of arithmentic operations"
   ]
  },
  {
   "cell_type": "markdown",
   "id": "64469400-da00-48f2-849b-761dfe84504a",
   "metadata": {},
   "source": [
    "Some of the popular languages that Data Scientists use are:\n",
    "\n",
    "1. Python\n",
    "2. R programming\n",
    "3. Java\n",
    "4. SQL\n",
    "5. Scala"
   ]
  },
  {
   "cell_type": "markdown",
   "id": "34491eb0-646c-46a5-b242-cf630cac18b3",
   "metadata": {},
   "source": [
    "Some of the commonly used libraries used by Data Scientists include:\n",
    "\n",
    "1. Panda\n",
    "2. NumPy\n",
    "3. Tensorflow\n",
    "4. Matplotlib"
   ]
  },
  {
   "cell_type": "markdown",
   "id": "265e7301-77f1-4169-a763-3b56edfff394",
   "metadata": {},
   "source": [
    "| Data Science Tools |\n",
    "| ------------------- |\n",
    "| RStudio |\n",
    "| Apache Spark |\n",
    "| TensorFlow |"
   ]
  },
  {
   "cell_type": "markdown",
   "id": "507468d6-fca4-4572-9262-d5cd9721ec97",
   "metadata": {},
   "source": [
    "### Below are a few examples of evaluating arithmetic expressions in Python"
   ]
  },
  {
   "cell_type": "code",
   "execution_count": 1,
   "id": "c6c32a49-f349-4cb7-a882-c60b3aadd2a5",
   "metadata": {},
   "outputs": [
    {
     "data": {
      "text/plain": [
       "17"
      ]
     },
     "execution_count": 1,
     "metadata": {},
     "output_type": "execute_result"
    }
   ],
   "source": [
    "# This a simple arithmetic expression to mutiply then add integers\n",
    "(3*4)+5"
   ]
  },
  {
   "cell_type": "code",
   "execution_count": 2,
   "id": "dc031427-7fe4-4b7f-993c-f6a3e37e2355",
   "metadata": {},
   "outputs": [
    {
     "data": {
      "text/plain": [
       "3.3333333333333335"
      ]
     },
     "execution_count": 2,
     "metadata": {},
     "output_type": "execute_result"
    }
   ],
   "source": [
    "#This will convert minutes to hours by diving by 60\n",
    "\n",
    "200/60"
   ]
  },
  {
   "cell_type": "markdown",
   "id": "c514faf1-1043-4853-a24c-619ac9607250",
   "metadata": {},
   "source": [
    "## Author \n",
    "Sahana H R"
   ]
  },
  {
   "cell_type": "code",
   "execution_count": null,
   "id": "350b5567-eb2c-4e1d-8dcd-b3cfaa2f8847",
   "metadata": {},
   "outputs": [],
   "source": []
  }
 ],
 "metadata": {
  "kernelspec": {
   "display_name": "Python 3 (ipykernel)",
   "language": "python",
   "name": "python3"
  },
  "language_info": {
   "codemirror_mode": {
    "name": "ipython",
    "version": 3
   },
   "file_extension": ".py",
   "mimetype": "text/x-python",
   "name": "python",
   "nbconvert_exporter": "python",
   "pygments_lexer": "ipython3",
   "version": "3.9.7"
  }
 },
 "nbformat": 4,
 "nbformat_minor": 5
}
